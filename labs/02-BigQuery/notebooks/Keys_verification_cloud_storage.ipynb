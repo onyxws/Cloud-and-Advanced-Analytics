{
 "cells": [
  {
   "cell_type": "markdown",
   "metadata": {
    "id": "xTticnHhHzNd"
   },
   "source": [
    "## This short code allows you to verify that your keys are working correctly\n",
    "\n",
    "- Import the JSON key file inside the Notebook\n",
    "- Replace the key_path : on VS code (./----.json), on Google Colab (/content/-----.json)\n",
    "- Insert your bucket_name (CF readme if blocked)\n",
    "- Insert your file_name (CF readme is blocked)\n",
    "- **run the cell**"
   ]
  },
  {
   "cell_type": "code",
   "outputs": [],
   "source": [
    "#!pip install google-cloud-storage"
   ],
   "metadata": {
    "collapsed": false
   }
  },
  {
   "cell_type": "code",
   "outputs": [],
   "source": [
    "# Import Libraries\n",
    "from google.cloud import storage\n",
    "import pandas as pd\n",
    "from io import StringIO"
   ],
   "metadata": {
    "collapsed": false,
    "ExecuteTime": {
     "end_time": "2025-03-02T23:38:14.417475Z",
     "start_time": "2025-03-02T23:38:14.409749Z"
    }
   },
   "execution_count": 8
  },
  {
   "cell_type": "code",
   "execution_count": null,
   "metadata": {
    "ExecuteTime": {
     "start_time": "2025-03-02T23:32:08.372523Z"
    },
    "colab": {
     "base_uri": "https://localhost:8080/"
    },
    "id": "-ckLh0qpHywQ",
    "outputId": "a97c66b5-65b6-4853-f515-b8ab11aedbf2"
   },
   "outputs": [],
   "source": [
    "# Set the path to your service account key file\n",
    "key_path = '/content/labcloud-451519-77f39f77cf38.json' #'./big-scale-analytics-......json'\n",
    "bucket_name = 'ox-caa-bucket' #'big_scale_analytics_bucket'\n",
    "file_name = 'movies.csv' #'movies.csv'\n",
    "\n",
    "# Create a client with service account credentials\n",
    "client = storage.Client.from_service_account_json(key_path)\n",
    "\n",
    "bucket = client.get_bucket(bucket_name) # Get the bucket\n",
    "blob = bucket.blob(file_name) # Get file objects\n",
    "\n",
    "movie_csv = blob.download_as_text() # Download csv from Google Cloud and stores inside movie_csv variable\n",
    "df = pd.read_csv(StringIO(movie_csv))\n",
    "\n",
    "#---------------CHECK---------------#\n",
    "if df.shape[1] == 3 and df.shape[0] == 27278:\n",
    "  print(\"Everything works fine, please process to the next step!\")\n",
    "else: print(\"There is an error, is the path correct, bucket name and file name correct?\")"
   ]
  },
  {
   "cell_type": "code",
   "execution_count": null,
   "metadata": {
    "ExecuteTime": {
     "start_time": "2025-03-02T23:32:08.374114Z"
    },
    "collapsed": false
   },
   "outputs": [],
   "source": []
  }
 ],
 "metadata": {
  "colab": {
   "provenance": []
  },
  "kernelspec": {
   "display_name": "Python 3 (ipykernel)",
   "language": "python",
   "name": "python3"
  },
  "language_info": {
   "codemirror_mode": {
    "name": "ipython",
    "version": 3
   },
   "file_extension": ".py",
   "mimetype": "text/x-python",
   "name": "python",
   "nbconvert_exporter": "python",
   "pygments_lexer": "ipython3",
   "version": "3.12.2"
  }
 },
 "nbformat": 4,
 "nbformat_minor": 4
}
