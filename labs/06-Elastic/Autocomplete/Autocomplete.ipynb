{
 "cells": [
  {
   "cell_type": "markdown",
   "metadata": {},
   "source": [
    "<a target=\"_blank\" href=\"https://colab.research.google.com/github/michalis0/Cloud-and-Advanced-Analytics/blob/main/labs/06-Elastic/Autocomplete/Autocomplete.ipynb\">\n",
    "  <img src=\"https://colab.research.google.com/assets/colab-badge.svg\" alt=\"Open In Colab\"/>\n",
    "</a>"
   ]
  },
  {
   "cell_type": "markdown",
   "metadata": {
    "id": "Xedxp5FpN2aZ"
   },
   "source": [
    "## **Autocomplete with Elastic Search:**"
   ]
  },
  {
   "cell_type": "code",
   "execution_count": 1,
   "metadata": {
    "colab": {
     "base_uri": "https://localhost:8080/"
    },
    "id": "L6QujwXTLlj7",
    "outputId": "7e587f39-7a84-4bf7-c083-12eba7b8a4d0",
    "ExecuteTime": {
     "end_time": "2025-03-27T15:33:30.026109Z",
     "start_time": "2025-03-27T15:33:28.686870Z"
    }
   },
   "outputs": [
    {
     "name": "stdout",
     "output_type": "stream",
     "text": [
      "Defaulting to user installation because normal site-packages is not writeable\r\n",
      "Collecting elasticsearch\r\n",
      "  Downloading elasticsearch-8.17.2-py3-none-any.whl.metadata (8.8 kB)\r\n",
      "Collecting elastic-transport<9,>=8.15.1 (from elasticsearch)\r\n",
      "  Downloading elastic_transport-8.17.1-py3-none-any.whl.metadata (3.8 kB)\r\n",
      "Requirement already satisfied: urllib3<3,>=1.26.2 in /Users/onyrakotomiaramnana/Library/Python/3.9/lib/python/site-packages (from elastic-transport<9,>=8.15.1->elasticsearch) (2.3.0)\r\n",
      "Requirement already satisfied: certifi in /Users/onyrakotomiaramnana/Library/Python/3.9/lib/python/site-packages (from elastic-transport<9,>=8.15.1->elasticsearch) (2025.1.31)\r\n",
      "Downloading elasticsearch-8.17.2-py3-none-any.whl (717 kB)\r\n",
      "\u001B[2K   \u001B[90m━━━━━━━━━━━━━━━━━━━━━━━━━━━━━━━━━━━━━━━━\u001B[0m \u001B[32m718.0/718.0 kB\u001B[0m \u001B[31m8.2 MB/s\u001B[0m eta \u001B[36m0:00:00\u001B[0m\r\n",
      "\u001B[?25hDownloading elastic_transport-8.17.1-py3-none-any.whl (64 kB)\r\n",
      "Installing collected packages: elastic-transport, elasticsearch\r\n",
      "Successfully installed elastic-transport-8.17.1 elasticsearch-8.17.2\r\n"
     ]
    }
   ],
   "source": [
    "# Download libraries\n",
    "!pip install elasticsearch"
   ]
  },
  {
   "cell_type": "code",
   "execution_count": 11,
   "metadata": {
    "id": "tONsF160P3q_",
    "ExecuteTime": {
     "end_time": "2025-03-27T16:47:25.979158Z",
     "start_time": "2025-03-27T16:47:25.969049Z"
    }
   },
   "outputs": [],
   "source": [
    "URL_ENDPOINT =   \"https://0cc9e5697567494e9ac54beea3f6c702.us-central1.gcp.cloud.es.io:443\"\n",
    "API_KEY = \"Wm1sLTJKVUItS0FpbFk5YnhoZ2I6R3hqTFJfbklTOHFlUzg4UDRQbWh0UQ==\"\n",
    "INDEX_NAME = 'trending_videos_youtube_elastic_data'"
   ]
  },
  {
   "cell_type": "code",
   "execution_count": 12,
   "metadata": {
    "id": "Qf79Zh14LsM2",
    "ExecuteTime": {
     "end_time": "2025-03-27T16:47:28.802645Z",
     "start_time": "2025-03-27T16:47:28.796144Z"
    }
   },
   "outputs": [],
   "source": [
    "from elasticsearch import Elasticsearch\n",
    "# Initiate the connexion to the index\n",
    "client = Elasticsearch(\n",
    "  URL_ENDPOINT,\n",
    "  api_key=API_KEY\n",
    ")"
   ]
  },
  {
   "cell_type": "code",
   "execution_count": 13,
   "metadata": {
    "colab": {
     "base_uri": "https://localhost:8080/"
    },
    "id": "lIL4sEAeMLW_",
    "outputId": "bec48386-2085-44f5-9994-9b426f90f139",
    "ExecuteTime": {
     "end_time": "2025-03-27T16:47:30.185134Z",
     "start_time": "2025-03-27T16:47:29.771683Z"
    }
   },
   "outputs": [
    {
     "data": {
      "text/plain": "ObjectApiResponse({'name': 'instance-0000000000', 'cluster_name': '0cc9e5697567494e9ac54beea3f6c702', 'cluster_uuid': 'sjDlIZslTbKGbg62Obo9Rw', 'version': {'number': '8.17.4', 'build_flavor': 'default', 'build_type': 'docker', 'build_hash': 'c63c7f5f8ce7d2e4805b7b3d842e7e792d84dda1', 'build_date': '2025-03-20T15:39:59.811110136Z', 'build_snapshot': False, 'lucene_version': '9.12.0', 'minimum_wire_compatibility_version': '7.17.0', 'minimum_index_compatibility_version': '7.0.0'}, 'tagline': 'You Know, for Search'})"
     },
     "execution_count": 13,
     "metadata": {},
     "output_type": "execute_result"
    }
   ],
   "source": [
    "# Check connexion\n",
    "client.info()"
   ]
  },
  {
   "cell_type": "code",
   "execution_count": 14,
   "metadata": {
    "colab": {
     "base_uri": "https://localhost:8080/"
    },
    "id": "FYqW4DBZNAZH",
    "outputId": "46f2259b-a808-43ff-bf02-44115f337666",
    "ExecuteTime": {
     "end_time": "2025-03-27T16:47:34.007296Z",
     "start_time": "2025-03-27T16:47:33.870840Z"
    }
   },
   "outputs": [
    {
     "name": "stdout",
     "output_type": "stream",
     "text": [
      "PourQuoi un scooter est mieux qu'ne moto ? C2\n",
      "⚡ Pourquoi le triphasé ? - HS - Monsieur Bidouille B1\n",
      "Pourquoi faut-il éviter les hybrides rechargeables ? B2\n",
      "Pourquoi le conflit Israël-Palestine est si important ? B1\n",
      "Pourquoi et comment mémoriser du VOCABULAIRE | Français COURANT + sous-titres  et transcription PDF. B2\n"
     ]
    }
   ],
   "source": [
    "# Search test\n",
    "response = client.search(index=\"trending_videos_youtube_elastic_data\", q=\"Pourquoi\")\n",
    "# Process search results\n",
    "for hit in response['hits']['hits']:\n",
    "    print(hit['_source']['title'], hit['_source']['videoDifficulty'])"
   ]
  },
  {
   "cell_type": "code",
   "execution_count": 15,
   "metadata": {
    "colab": {
     "base_uri": "https://localhost:8080/"
    },
    "id": "Szy51oTKtD03",
    "outputId": "f4dd408b-c7a0-4217-ff39-ffc2bf96c520",
    "ExecuteTime": {
     "end_time": "2025-03-27T16:47:36.320927Z",
     "start_time": "2025-03-27T16:47:36.311290Z"
    }
   },
   "outputs": [
    {
     "data": {
      "text/plain": "ObjectApiResponse({'took': 1, 'timed_out': False, '_shards': {'total': 1, 'successful': 1, 'skipped': 0, 'failed': 0}, 'hits': {'total': {'value': 5, 'relation': 'eq'}, 'max_score': 3.4007745, 'hits': [{'_index': 'trending_videos_youtube_elastic_data', '_id': 'jGlS2JUB-KAilY9b1hfc', '_score': 3.4007745, '_source': {'channel_title': 'The Choucroute Garage', 'videoDifficulty': 'C2', '@timestamp': '2022-09-09T00:00:00.000+02:00', 'category_id': 'Autos & Vehicles', 'publish_time': '2022-09-09', 'title': \"PourQuoi un scooter est mieux qu'ne moto ?\", 'views': 42000, 'video_id': 'oRi3EMoSckY', 'likes': 1000}}, {'_index': 'trending_videos_youtube_elastic_data', '_id': 'rWlS2JUB-KAilY9b1hfc', '_score': 3.4007745, '_source': {'channel_title': 'Monsieur Bidouille', 'videoDifficulty': 'B1', '@timestamp': '2018-07-30T00:00:00.000+02:00', 'category_id': 'Science & Technology', 'publish_time': '2018-07-30', 'title': '⚡ Pourquoi le triphasé ? - HS - Monsieur Bidouille', 'views': 325000, 'video_id': 'JwOTA5a2mK0', 'likes': 17000}}, {'_index': 'trending_videos_youtube_elastic_data', '_id': 'rmlS2JUB-KAilY9b1hfc', '_score': 3.4007745, '_source': {'channel_title': 'Max BLD', 'videoDifficulty': 'B2', '@timestamp': '2022-05-31T00:00:00.000+02:00', 'category_id': 'Autos & Vehicles', 'publish_time': '2022-05-31', 'title': 'Pourquoi faut-il éviter les hybrides rechargeables ?', 'views': 74000, 'video_id': '1TAU7MsTXKM', 'likes': 711}}, {'_index': 'trending_videos_youtube_elastic_data', '_id': 'W2lS2JUB-KAilY9b1hfc', '_score': 3.2344751, '_source': {'channel_title': 'TAOQAN', 'videoDifficulty': 'B1', '@timestamp': '2023-10-20T00:00:00.000+02:00', 'category_id': 'News & Politics', 'publish_time': '2023-10-20', 'title': 'Pourquoi le conflit Israël-Palestine est si important ?', 'views': 201000, 'video_id': 'SMzWtsjauo0', 'likes': 13000}}, {'_index': 'trending_videos_youtube_elastic_data', '_id': 'aWlS2JUB-KAilY9b1hfc', '_score': 2.5990114, '_source': {'channel_title': 'Français avec Fluidité', 'videoDifficulty': 'B2', '@timestamp': '2023-08-26T00:00:00.000+02:00', 'category_id': 'Education', 'publish_time': '2023-08-26', 'title': 'Pourquoi et comment mémoriser du VOCABULAIRE | Français COURANT + sous-titres  et transcription PDF.', 'views': 31000, 'video_id': 'UM8DIt293QA', 'likes': 1000}}]}})"
     },
     "execution_count": 15,
     "metadata": {},
     "output_type": "execute_result"
    }
   ],
   "source": [
    "# print the entire response\n",
    "response"
   ]
  },
  {
   "cell_type": "code",
   "execution_count": 16,
   "metadata": {
    "colab": {
     "base_uri": "https://localhost:8080/"
    },
    "id": "_zYfI9VBtO96",
    "outputId": "dc4d182e-950d-430b-eeb2-d04d6d503123",
    "ExecuteTime": {
     "end_time": "2025-03-27T16:47:38.171688Z",
     "start_time": "2025-03-27T16:47:38.037254Z"
    }
   },
   "outputs": [
    {
     "name": "stdout",
     "output_type": "stream",
     "text": [
      "['Education', 'News & Politics', 'Science & Technology', 'Entertainment', 'Autos & Vehicles', 'Howto & Style', 'People & Blogs', 'Nonprofits & Activism', 'Travel & Events', 'Film & Animation', 'Sports']\n"
     ]
    }
   ],
   "source": [
    "# Get all the categories\n",
    "aggregation_query = {\n",
    "    \"aggs\": {\n",
    "        \"category_ids\": {\n",
    "            \"terms\": {\n",
    "                \"field\": \"category_id\",\n",
    "                \"size\": 100\n",
    "            }\n",
    "        }\n",
    "    }\n",
    "}\n",
    "\n",
    "res = client.search(index=\"trending_videos_youtube_elastic_data\", body=aggregation_query)\n",
    "\n",
    "category_ids = [bucket['key'] for bucket in res['aggregations']['category_ids']['buckets']]\n",
    "print(category_ids)"
   ]
  },
  {
   "cell_type": "code",
   "execution_count": 17,
   "metadata": {
    "colab": {
     "base_uri": "https://localhost:8080/"
    },
    "id": "3oF7tnfJs-CH",
    "outputId": "56098791-a590-4777-d7f0-99931d551633",
    "ExecuteTime": {
     "end_time": "2025-03-27T16:47:47.875356Z",
     "start_time": "2025-03-27T16:47:47.745610Z"
    }
   },
   "outputs": [
    {
     "name": "stdout",
     "output_type": "stream",
     "text": [
      "Cette vidéo t'explique le conflit historique entre Israël et Palestine B2 192000\n",
      "Tu peux mieux parler français dans 30 jours B1 144000\n"
     ]
    }
   ],
   "source": [
    "# Search by boolean query\n",
    "body = {\n",
    "    \"query\": {\n",
    "        \"bool\": {\n",
    "            \"must\": [\n",
    "                {\"match\": {\"category_id\": \"Education\"}}\n",
    "            ],\n",
    "            \"filter\": [\n",
    "                {\"range\": {\"likes\": {\"gte\": 100000}}} # Greater of Equal to\n",
    "            ]\n",
    "        }\n",
    "    }\n",
    "}\n",
    "\n",
    "response = client.search(index=\"trending_videos_youtube_elastic_data\", body=body)\n",
    "\n",
    "# Process search results\n",
    "for hit in response['hits']['hits']:\n",
    "    print(hit['_source']['title'], hit['_source']['videoDifficulty'],hit['_source']['likes'])"
   ]
  },
  {
   "cell_type": "code",
   "execution_count": 18,
   "metadata": {
    "colab": {
     "base_uri": "https://localhost:8080/"
    },
    "id": "QSDoqn6Ssqoa",
    "outputId": "5949632b-08c6-4b51-8634-f110c615dca7",
    "ExecuteTime": {
     "end_time": "2025-03-27T16:47:48.931321Z",
     "start_time": "2025-03-27T16:47:48.802312Z"
    }
   },
   "outputs": [
    {
     "name": "stdout",
     "output_type": "stream",
     "text": [
      "{'channel_title': 'The Choucroute Garage', 'videoDifficulty': 'C2', '@timestamp': '2022-09-09T00:00:00.000+02:00', 'category_id': 'Autos & Vehicles', 'publish_time': '2022-09-09', 'title': \"PourQuoi un scooter est mieux qu'ne moto ?\", 'views': 42000, 'video_id': 'oRi3EMoSckY', 'likes': 1000}\n",
      "{'channel_title': 'Monsieur Bidouille', 'videoDifficulty': 'B1', '@timestamp': '2018-07-30T00:00:00.000+02:00', 'category_id': 'Science & Technology', 'publish_time': '2018-07-30', 'title': '⚡ Pourquoi le triphasé ? - HS - Monsieur Bidouille', 'views': 325000, 'video_id': 'JwOTA5a2mK0', 'likes': 17000}\n",
      "{'channel_title': 'Max BLD', 'videoDifficulty': 'B2', '@timestamp': '2022-05-31T00:00:00.000+02:00', 'category_id': 'Autos & Vehicles', 'publish_time': '2022-05-31', 'title': 'Pourquoi faut-il éviter les hybrides rechargeables ?', 'views': 74000, 'video_id': '1TAU7MsTXKM', 'likes': 711}\n",
      "{'channel_title': 'TAOQAN', 'videoDifficulty': 'B1', '@timestamp': '2023-10-20T00:00:00.000+02:00', 'category_id': 'News & Politics', 'publish_time': '2023-10-20', 'title': 'Pourquoi le conflit Israël-Palestine est si important ?', 'views': 201000, 'video_id': 'SMzWtsjauo0', 'likes': 13000}\n",
      "{'channel_title': 'Français avec Fluidité', 'videoDifficulty': 'B2', '@timestamp': '2023-08-26T00:00:00.000+02:00', 'category_id': 'Education', 'publish_time': '2023-08-26', 'title': 'Pourquoi et comment mémoriser du VOCABULAIRE | Français COURANT + sous-titres  et transcription PDF.', 'views': 31000, 'video_id': 'UM8DIt293QA', 'likes': 1000}\n"
     ]
    }
   ],
   "source": [
    "# Search test\n",
    "response = client.search(index=\"trending_videos_youtube_elastic_data\", q=\"Pourquoi\")\n",
    "# Process search results\n",
    "for hit in response['hits']['hits']:\n",
    "    print(hit['_source'])"
   ]
  },
  {
   "cell_type": "code",
   "execution_count": 19,
   "metadata": {
    "id": "tSTQCx0ZM0H8",
    "ExecuteTime": {
     "end_time": "2025-03-27T16:48:26.369443Z",
     "start_time": "2025-03-27T16:47:50.147720Z"
    }
   },
   "outputs": [
    {
     "name": "stdout",
     "output_type": "stream",
     "text": [
      "-----------------------\n",
      "Autocomplete Suggestions:\n",
      "Number of results 0\n",
      "------------------------\n",
      "-----------------------\n",
      "Autocomplete Suggestions:\n",
      "Number of results 10\n",
      "------------------------\n",
      "Cette vidéo t'explique le conflit historique entre Israël et Palestine\n",
      "Tu peux mieux parler français dans 30 jours\n",
      "🇨🇭 La Suisse : un pays riche en paysages et culture\n",
      "Voici la méthode d'apprentissage PARFAITE !\n",
      "Les pays qui ont encore des colonies !\n",
      "Pourquoi le conflit Israël-Palestine est si important ?\n",
      "13 conseils pour mieux apprendre, par le neuroscientifique Stanislas Dehaene\n",
      "Les Pays qui ne sont pas internationalement reconnus\n",
      "TOUT apprendre en 48 heures (la technique parfaite)\n",
      "Comment trouver sa voie quand on s’intéresse à tout ? | Paolo Z | TEDxGEM\n",
      "-----------------------\n",
      "Autocomplete Suggestions:\n",
      "Number of results 0\n",
      "------------------------\n",
      "-----------------------\n",
      "Autocomplete Suggestions:\n",
      "Number of results 0\n",
      "------------------------\n",
      "-----------------------\n",
      "Autocomplete Suggestions:\n",
      "Number of results 0\n",
      "------------------------\n",
      "-----------------------\n"
     ]
    }
   ],
   "source": [
    "# Function to perform autocomplete search\n",
    "def autocomplete_search(query):\n",
    "    body = {\n",
    "        \"query\": {\n",
    "            \"match_phrase_prefix\": {\n",
    "                \"title\": {\n",
    "                    \"query\": query,\n",
    "                    \"max_expansions\": 10  # Adjust the number of expansions as needed\n",
    "                }\n",
    "            }\n",
    "        },\n",
    "        \"sort\": [\n",
    "      {\"views\": {\"order\": \"desc\"}}  # Sort by view count\n",
    "        ]\n",
    "    }\n",
    "\n",
    "\n",
    "    response = client.search(index=INDEX_NAME, body=body)\n",
    "    suggestions = [hit['_source']['title'] for hit in response['hits']['hits']]\n",
    "    num_hits = len(suggestions)\n",
    "    return suggestions,num_hits\n",
    "\n",
    "\n",
    "while True:\n",
    "    search_query = input(\"Enter video title (type 'exit' to quit): \")\n",
    "    print(\"-----------------------\")\n",
    "    if search_query.lower() == 'exit':\n",
    "        break\n",
    "\n",
    "    # Perform autocomplete search\n",
    "    autocomplete_results,num_hits = autocomplete_search(search_query)\n",
    "\n",
    "    print(\"Autocomplete Suggestions:\")\n",
    "    print(\"Number of results\",num_hits)\n",
    "    print(\"------------------------\")\n",
    "    for result in autocomplete_results:\n",
    "        print(result)"
   ]
  },
  {
   "cell_type": "code",
   "outputs": [],
   "source": [],
   "metadata": {
    "collapsed": false
   }
  }
 ],
 "metadata": {
  "colab": {
   "provenance": []
  },
  "kernelspec": {
   "name": "python3",
   "language": "python",
   "display_name": "Python 3 (ipykernel)"
  },
  "language_info": {
   "name": "python"
  }
 },
 "nbformat": 4,
 "nbformat_minor": 0
}
